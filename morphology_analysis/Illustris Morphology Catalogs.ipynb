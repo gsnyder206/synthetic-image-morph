{
 "cells": [
  {
   "cell_type": "code",
   "execution_count": null,
   "metadata": {
    "collapsed": true
   },
   "outputs": [],
   "source": [
    "import h5py\n",
    "import matplotlib\n",
    "import matplotlib.pyplot as pyplot\n",
    "mFN=\"nonparmorphs_SB25_12filters_all_FILES.hdf5\"\n",
    "\n",
    "def get_all_morph_val(msF,sk,fk,keyname,camera=None):\n",
    "    if camera is None:\n",
    "        morph_array = np.concatenate( (msF['nonparmorphs'][sk][fk]['CAMERA0'][keyname].value,\n",
    "                                       msF['nonparmorphs'][sk][fk]['CAMERA1'][keyname].value,\n",
    "                                       msF['nonparmorphs'][sk][fk]['CAMERA2'][keyname].value,\n",
    "                                       msF['nonparmorphs'][sk][fk]['CAMERA3'][keyname].value) )\n",
    "    else:\n",
    "        morph_array = msF['nonparmorphs'][sk][fk][camera][keyname].value\n",
    "\n",
    "    return morph_array\n",
    "\n",
    "\n",
    "def get_all_snap_val(msF,sk,keyname,camera=None):\n",
    "    if camera is None:\n",
    "        val_array = np.concatenate( (msF['nonparmorphs'][sk][keyname].value,\n",
    "                                     msF['nonparmorphs'][sk][keyname].value,\n",
    "                                     msF['nonparmorphs'][sk][keyname].value,\n",
    "                                     msF['nonparmorphs'][sk][keyname].value) )\n",
    "    else:\n",
    "        val_array = msF['nonparmorphs'][sk][keyname].value\n",
    "\n",
    "    return val_array"
   ]
  },
  {
   "cell_type": "code",
   "execution_count": 43,
   "metadata": {
    "collapsed": false
   },
   "outputs": [
    {
     "name": "stdout",
     "output_type": "stream",
     "text": [
      "['nonparmorphs']\n",
      "['ACS-F435W', 'ACS-F606W', 'ACS-F814W', 'BHMdot_Msunperyr', 'Cameras', 'Filters', 'Mbh_Msun', 'Mhalo_Msun', 'Mstar_Msun', 'NC-F115W', 'NC-F150W', 'NC-F200W', 'NC-F277W', 'NC-F356W', 'NC-F444W', 'SFR_Msunperyr', 'SubfindID', 'WFC3-F105W', 'WFC3-F160W', 'WFC3-F336W']\n",
      "[  7.60825184e+11   3.65927342e+10   4.23583375e+10 ...,   1.32765204e+10\n",
      "   3.27196447e+10   4.54891643e+10]\n",
      "['APPROXPSF_ARCSEC', 'ASYM', 'AXC', 'AYC', 'CC', 'CC_ERR', 'CFLAG', 'ELONG', 'FLAG', 'GINI', 'IMFILES', 'M20', 'MAG', 'MAG_ERR', 'MID1_A1', 'MID1_A2', 'MID1_AREA', 'MID1_DSTAT', 'MID1_GINI', 'MID1_ISTAT', 'MID1_M20', 'MID1_MPRIME', 'MID1_SNP', 'MID2_A1', 'MID2_A2', 'MID2_DSTAT', 'MID2_ISTAT', 'MID2_MPRIME', 'M_A', 'M_I2', 'ORIENT', 'PIX_ARCSEC', 'REDSHIFT', 'RHALF', 'RHALF_ERR', 'RMS', 'RP', 'RP_ERR', 'SEG_AREA', 'SEG_ECCENT', 'SEG_ELLIPT', 'SEG_EQRAD', 'SEG_SMAJSIG', 'SEG_SMINSIG', 'SNPIX', 'SUNRISE_ABSMAG']\n",
      "z=  2.00203\n",
      "[ 0.54627514  0.51852459  0.42111731 ...,  0.47785673  0.51014042\n",
      "  0.38805512]\n"
     ]
    },
    {
     "data": {
      "image/png": "[encoded data removed]",
      "text/plain": [
       "<matplotlib.figure.Figure at 0x111e92320>"
      ]
     },
     "metadata": {},
     "output_type": "display_data"
    },
    {
     "name": "stdout",
     "output_type": "stream",
     "text": [
      "(2233,) (2233,)\n",
      "(8932,) (8932,)\n"
     ]
    }
   ],
   "source": [
    "with h5py.File(mFN,'r') as msF:\n",
    "    print(list(msF.keys()))\n",
    "    print(list(msF['nonparmorphs/snapshot_068/'].keys()))\n",
    "    print(msF['nonparmorphs/snapshot_068/Mstar_Msun'].value)\n",
    "    print(list(msF['nonparmorphs/snapshot_068/WFC3-F160W/CAMERA0'].keys()))\n",
    "    \n",
    "    print('z= ',msF['nonparmorphs/snapshot_068/WFC3-F160W/CAMERA0/REDSHIFT'].value[0])\n",
    "    \n",
    "    gini=msF['nonparmorphs/snapshot_068/WFC3-F160W/CAMERA0/GINI'].value\n",
    "    print(gini)\n",
    "    \n",
    "    rp=msF['nonparmorphs/snapshot_068/WFC3-F160W/CAMERA0/RP'].value\n",
    "    rp_err=msF['nonparmorphs/snapshot_068/WFC3-F160W/CAMERA0/RP_ERR'].value\n",
    "    \n",
    "    mstar = msF['nonparmorphs/snapshot_068/Mstar_Msun'].value\n",
    "    \n",
    "    pyplot.semilogy(rp,rp_err/rp,'ok'); pyplot.xlim(0.0,50.0) ; pyplot.ylim(0.01,0.5)\n",
    "    pyplot.ylabel(r'$\\sigma(R_p)$') ; pyplot.xlabel(r'$R_p$')\n",
    "    pyplot.show()\n",
    "    \n",
    "    print(mstar.shape, gini.shape) #note need to concat lists of Mstar, Gini to use all 4 cameras\n",
    "    \n",
    "    mstar_all = get_all_snap_val(msF,'snapshot_068','Mstar_Msun')\n",
    "    gini_all = get_all_morph_val(msF,'snapshot_068','WFC3-F160W','GINI')\n",
    "    \n",
    "    print(mstar_all.shape, gini_all.shape)\n",
    "\n",
    "    "
   ]
  },
  {
   "cell_type": "code",
   "execution_count": null,
   "metadata": {
    "collapsed": true
   },
   "outputs": [],
   "source": []
  }
 ],
 "metadata": {
  "kernelspec": {
   "display_name": "Python 3",
   "language": "python",
   "name": "python3"
  },
  "language_info": {
   "codemirror_mode": {
    "name": "ipython",
    "version": 3
   },
   "file_extension": ".py",
   "mimetype": "text/x-python",
   "name": "python",
   "nbconvert_exporter": "python",
   "pygments_lexer": "ipython3",
   "version": "3.5.2"
  }
 },
 "nbformat": 4,
 "nbformat_minor": 2
}
